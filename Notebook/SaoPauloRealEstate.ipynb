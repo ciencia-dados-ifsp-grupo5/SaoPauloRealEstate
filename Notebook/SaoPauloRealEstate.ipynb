{
 "cells": [
  {
   "cell_type": "markdown",
   "id": "01b08648",
   "metadata": {},
   "source": [
    "# São Paulo Real Estate - Sale/Rent - April 2019\n",
    "\n",
    "**D2APR: Aprendizado de Máquina e Reconhecimento de Padrões** (IFSP, Campinas)\n",
    "Especialização em Ciência de Dados - IFSP Campinas\n",
    "\n",
    "Alunos\n",
    "- Daniel Vargas Shimamoto\n",
    "- Diego Machado de Assis"
   ]
  },
  {
   "cell_type": "markdown",
   "id": "04aba869",
   "metadata": {},
   "source": [
    "## 1. Informações Gerais\n",
    "\n",
    "### 1.1. Contexto do problema\n",
    "\n",
    "### 1.2. Conhecendo  o dataset\n",
    "\n",
    "O Dataset contem cerca de 13000 dados referentes a venda e aluguel de apartamentos na cidade de São Paulo (Brasil). Os dados foram coletados de diversas fontes, principalmente de sites de classificados de imóveis. Todos os dados foram coletados no mês de abril de 2019.\n",
    "\n",
    "\n",
    "### 1.3. Principais atributos e seus tipos\n",
    "\n",
    "Os dados dos imóveis possuem 16 atributos\n",
    "\n",
    "* Price (int): Preço total anunciado em reais\n",
    "* Condo (int): Condomínio em reais (Valores desconhecidos são marcados como zero) - Float\n",
    "* Size (int): Tamanho da propriedade em m² (Somente áreas privadas) - \n",
    "* Rooms (int): Número de Quartos - \n",
    "* Toilets (int): Númerto total de banheiros - \n",
    "* Suites (int): Número de suites (Quartos com banheiros privativos) - \n",
    "* Parking (int): Número de vagas de estacionamento\n",
    "* Elevator (binario): Se existe elevador (1 - sim, 0 - não) - \n",
    "* Furnished (binario): Se o imóvel é mobiliado (1 - sim, 0 - não) - \n",
    "* Swimming Pool (binario): Se existe piscina na propriedade (1 - sim, 0 - não) - \n",
    "* New (binario): Se o apartamento é novo (1 - sim, 0 - não) - \n",
    "* District (string) : Bairro e cidade que o imóvel está localizado\n",
    "* Negotiation Type (string): Alugel ou venda\n",
    "* Property Type (string): Tipo de propriedade\n",
    "* Latitude (float): Latitude do imóvel\n",
    "* Longitude (float): Longitude do imóvel "
   ]
  },
  {
   "cell_type": "code",
   "execution_count": 3,
   "id": "72c39b04",
   "metadata": {},
   "outputs": [
    {
     "data": {
      "text/plain": [
       "(13640, 16)"
      ]
     },
     "execution_count": 3,
     "metadata": {},
     "output_type": "execute_result"
    }
   ],
   "source": [
    "import pandas as pd\n",
    "\n",
    "df = pd.read_csv('../Data/sao-paulo-properties-april-2019.csv')\n",
    "df.shape"
   ]
  },
  {
   "cell_type": "code",
   "execution_count": 7,
   "id": "03712282",
   "metadata": {},
   "outputs": [
    {
     "name": "stdout",
     "output_type": "stream",
     "text": [
      "<class 'pandas.core.frame.DataFrame'>\n",
      "RangeIndex: 13640 entries, 0 to 13639\n",
      "Data columns (total 16 columns):\n",
      " #   Column            Non-Null Count  Dtype  \n",
      "---  ------            --------------  -----  \n",
      " 0   Price             13640 non-null  int64  \n",
      " 1   Condo             13640 non-null  int64  \n",
      " 2   Size              13640 non-null  int64  \n",
      " 3   Rooms             13640 non-null  int64  \n",
      " 4   Toilets           13640 non-null  int64  \n",
      " 5   Suites            13640 non-null  int64  \n",
      " 6   Parking           13640 non-null  int64  \n",
      " 7   Elevator          13640 non-null  int64  \n",
      " 8   Furnished         13640 non-null  int64  \n",
      " 9   Swimming Pool     13640 non-null  int64  \n",
      " 10  New               13640 non-null  int64  \n",
      " 11  District          13640 non-null  object \n",
      " 12  Negotiation Type  13640 non-null  object \n",
      " 13  Property Type     13640 non-null  object \n",
      " 14  Latitude          13640 non-null  float64\n",
      " 15  Longitude         13640 non-null  float64\n",
      "dtypes: float64(2), int64(11), object(3)\n",
      "memory usage: 1.7+ MB\n"
     ]
    }
   ],
   "source": [
    "df.info()"
   ]
  },
  {
   "cell_type": "code",
   "execution_count": null,
   "id": "d79e6c80",
   "metadata": {},
   "outputs": [],
   "source": []
  },
  {
   "cell_type": "code",
   "execution_count": null,
   "id": "48090d41",
   "metadata": {},
   "outputs": [],
   "source": []
  },
  {
   "cell_type": "code",
   "execution_count": null,
   "id": "514aa7e1",
   "metadata": {},
   "outputs": [],
   "source": []
  },
  {
   "cell_type": "markdown",
   "id": "03b39398",
   "metadata": {},
   "source": [
    "## 2. Análise exploratória\n",
    "\n",
    "### 2.1. Distribuição das variáveis\n",
    "\n",
    "### 2.2. Correlação\n",
    "\n",
    "### 2.3. Análise Gráfica\n",
    "\n",
    "### 2.4. Conclusão"
   ]
  },
  {
   "cell_type": "markdown",
   "id": "ee5e3377",
   "metadata": {},
   "source": [
    "## 3. Limpeza e preparação das Bases\n",
    "\n",
    "* Remoção de duplicidade e/ou outliers;\n",
    "* Preenchimento de dados faltantes;\n",
    "* Feature scaling\n",
    "* Discussão sucinta sobre a razão de cada etapa de limpeza e pre-processamento considerada;"
   ]
  },
  {
   "cell_type": "markdown",
   "id": "fe7de3f6",
   "metadata": {},
   "source": [
    "## 4. Treinamento e validação de modelos de regressão\n",
    "\n",
    "### 4.1. Modelo 1: xxxx\n",
    "\n",
    "### 4.2. Modelo 2: xxxx\n",
    "\n",
    "### 4.3. Modelo 3: xxxx\n",
    "\n",
    "### 4.4. Discussão dos resultatos\n",
    "* Métricas utilizadas\n",
    "* Há overfitting ou underfitting?\n",
    "\n",
    "### 4.5. Próximos passos\n",
    "* Estratégias, ideias, sugestões para melhorar o modelo"
   ]
  },
  {
   "cell_type": "markdown",
   "id": "1c772fd0",
   "metadata": {},
   "source": [
    "## Atividades opcionais\n",
    "\n",
    "### a) Usar pipelines (scikit-Learn)\n",
    "\n",
    "### b) Fine-tuning\n",
    "\n",
    "### c) Ensemble methods\n",
    "\n",
    "### d) Abordagem de negócio\n",
    "* Motivação e descrição do problema \n",
    "* Baseline\n",
    "* Comparação dos resultados com o baseline\n",
    "* Conversão dos resultados em medidas de performace para o negócio"
   ]
  },
  {
   "cell_type": "markdown",
   "id": "c1c382d4",
   "metadata": {},
   "source": []
  },
  {
   "cell_type": "code",
   "execution_count": null,
   "id": "f35f8b73",
   "metadata": {},
   "outputs": [],
   "source": []
  }
 ],
 "metadata": {
  "kernelspec": {
   "display_name": "Python 3",
   "language": "python",
   "name": "python3"
  },
  "language_info": {
   "codemirror_mode": {
    "name": "ipython",
    "version": 3
   },
   "file_extension": ".py",
   "mimetype": "text/x-python",
   "name": "python",
   "nbconvert_exporter": "python",
   "pygments_lexer": "ipython3",
   "version": "3.8.8"
  }
 },
 "nbformat": 4,
 "nbformat_minor": 5
}
