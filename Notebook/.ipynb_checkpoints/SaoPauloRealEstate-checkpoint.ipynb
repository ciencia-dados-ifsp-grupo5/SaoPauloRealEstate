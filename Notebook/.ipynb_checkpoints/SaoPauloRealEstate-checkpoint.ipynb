{
 "cells": [
  {
   "cell_type": "markdown",
   "id": "38396100",
   "metadata": {},
   "source": [
    "# São Paulo Real Estate - Sale/Rent - April 2019\n",
    "\n",
    "**D2APR: Aprendizado de Máquina e Reconhecimento de Padrões** (IFSP, Campinas)\n",
    "Especialização em Ciência de Dados - IFSP Campinas\n",
    "\n",
    "Alunos\n",
    "- Daniel Vargas Shimamoto\n",
    "- Diego Machado de Assis"
   ]
  },
  {
   "cell_type": "markdown",
   "id": "be423647",
   "metadata": {},
   "source": [
    "## 1. Informações Gerais\n",
    "\n",
    "### 1.1. Contexto do problema\n",
    "\n",
    "\n",
    "### 1.2. Conhecendo  o dataset\n",
    "\n",
    "### 1.3. Principais atributos e seus tipos"
   ]
  },
  {
   "cell_type": "markdown",
   "id": "6c50c28b",
   "metadata": {},
   "source": [
    "## 2. Análise exploratória\n",
    "\n",
    "### 2.1. Distribuição das variáveis\n",
    "\n",
    "### 2.2. Correlação\n",
    "\n",
    "### 2.3. Análise Gráfica\n",
    "\n",
    "### 2.4. Conclusão"
   ]
  },
  {
   "cell_type": "markdown",
   "id": "9be62747",
   "metadata": {},
   "source": [
    "## 3. Limpeza e preparação das Bases\n",
    "\n",
    "* Remoção de duplicidade e/ou outliers;\n",
    "* Preenchimento de dados faltantes;\n",
    "* Feature scaling\n",
    "* Discussão sucinta sobre a razão de cada etapa de limpeza e pre-processamento considerada;"
   ]
  },
  {
   "cell_type": "markdown",
   "id": "e6fbdd1b",
   "metadata": {},
   "source": [
    "## 4. Treinamento e validação de modelos de regressão\n",
    "\n",
    "### 4.1. Modelo 1: xxxx\n",
    "\n",
    "### 4.2. Modelo 2: xxxx\n",
    "\n",
    "### 4.3. Modelo 3: xxxx\n",
    "\n",
    "### 4.4. Discussão dos resultatos\n",
    "* Métricas utilizadas\n",
    "* Há overfitting ou underfitting?\n",
    "\n",
    "### 4.5. Próximos passos\n",
    "* Estratégias, ideias, sugestões para melhorar o modelo"
   ]
  },
  {
   "cell_type": "markdown",
   "id": "f102340b",
   "metadata": {},
   "source": [
    "## Atividades opcionais\n",
    "\n",
    "### a) Usar pipelines (scikit-Learn)\n",
    "\n",
    "### b) Fine-tuning\n",
    "\n",
    "### c) Ensemble methods\n",
    "\n",
    "### d) Abordagem de negócio\n",
    "* Motivação e descrição do problema \n",
    "* Baseline\n",
    "* Comparação dos resultados com o baseline\n",
    "* Conversão dos resultados em medidas de performace para o negócio"
   ]
  },
  {
   "cell_type": "markdown",
   "id": "f6bf08bc",
   "metadata": {},
   "source": []
  },
  {
   "cell_type": "code",
   "execution_count": null,
   "id": "dc621f66",
   "metadata": {},
   "outputs": [],
   "source": []
  }
 ],
 "metadata": {
  "kernelspec": {
   "display_name": "Python 3",
   "language": "python",
   "name": "python3"
  },
  "language_info": {
   "codemirror_mode": {
    "name": "ipython",
    "version": 3
   },
   "file_extension": ".py",
   "mimetype": "text/x-python",
   "name": "python",
   "nbconvert_exporter": "python",
   "pygments_lexer": "ipython3",
   "version": "3.8.8"
  }
 },
 "nbformat": 4,
 "nbformat_minor": 5
}
